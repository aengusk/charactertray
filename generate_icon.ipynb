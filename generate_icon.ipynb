{
 "cells": [
  {
   "cell_type": "code",
   "execution_count": 3,
   "id": "a5487abb-f44d-4bfa-994e-b66c3bf93f0a",
   "metadata": {},
   "outputs": [],
   "source": [
    "from PIL import Image, ImageDraw, ImageFont\n",
    "\n",
    "# Create a blank image with white background\n",
    "width, height = 100, 100\n",
    "background_color = (255, 255, 255)  # white\n",
    "image = Image.new(\"RGB\", (width, height), background_color)\n",
    "\n",
    "# Initialize drawing context\n",
    "draw = ImageDraw.Draw(image)\n",
    "\n",
    "# Load a font\n",
    "font = None\n",
    "\n",
    "# Calculate text size\n",
    "text = \"Ñ\"\n",
    "text_width, text_height = 100, 100\n",
    "\n",
    "# Calculate text position to center it in the image\n",
    "x = (width - text_width) / 2\n",
    "y = (height - text_height) / 2\n",
    "\n",
    "# Draw the text on the image\n",
    "text_color = (0, 0, 0)  # black\n",
    "draw.text((x, y), text, fill=text_color, font=ImageFont.load_default())\n",
    "\n",
    "# Save the image as PNG\n",
    "image.save(\"letter_N.png\")\n",
    "\n",
    "# Show the image\n",
    "image.show()"
   ]
  },
  {
   "cell_type": "code",
   "execution_count": 2,
   "id": "e08cc7b4-08db-45df-a4b3-cbfb4af4c99c",
   "metadata": {},
   "outputs": [
    {
     "name": "stdout",
     "output_type": "stream",
     "text": [
      "Ñ\n"
     ]
    }
   ],
   "source": [
    "print('ñ'.upper())"
   ]
  },
  {
   "cell_type": "code",
   "execution_count": null,
   "id": "61ec1cad-8f1c-4f0b-931e-0a244a0e9633",
   "metadata": {},
   "outputs": [],
   "source": []
  }
 ],
 "metadata": {
  "kernelspec": {
   "display_name": "Python 3 (ipykernel)",
   "language": "python",
   "name": "python3"
  },
  "language_info": {
   "codemirror_mode": {
    "name": "ipython",
    "version": 3
   },
   "file_extension": ".py",
   "mimetype": "text/x-python",
   "name": "python",
   "nbconvert_exporter": "python",
   "pygments_lexer": "ipython3",
   "version": "3.12.1"
  }
 },
 "nbformat": 4,
 "nbformat_minor": 5
}
